{
 "cells": [
  {
   "cell_type": "code",
   "execution_count": null,
   "id": "312c5e23",
   "metadata": {},
   "outputs": [],
   "source": [
    "import pandas as pd\n",
    "import glob\n",
    "import matplotlib.pyplot as plt\n",
    "import seaborn as sns"
   ]
  },
  {
   "cell_type": "code",
   "execution_count": null,
   "id": "17a036b4-fb56-4b43-bb5e-511ed06f9745",
   "metadata": {},
   "outputs": [],
   "source": [
    "genome_scores_df = pd.read_csv('/movielens/genome_scores.csv')\n",
    "genome_tags_df = pd.read_csv('/movielens/genome_tags.csv')\n",
    "link_df = pd.read_csv('/movielens/link.csv')\n",
    "movie_df = pd.read_csv('/movielens/movie.csv')\n",
    "rating_df = pd.read_csv('/movielens/rating.csv')\n",
    "tag_df = pd.read_csv('/movielens/tag.csv')"
   ]
  },
  {
   "cell_type": "code",
   "execution_count": null,
   "id": "cc61ab47-2600-48a6-88d4-5f96875819e7",
   "metadata": {},
   "outputs": [],
   "source": [
    "# Explore the data\n",
    "print(\"=== Genome Scores ===\")\n",
    "print(genome_scores_df.head())\n",
    "print(genome_scores_df.info())\n",
    "print(genome_scores_df.describe())\n",
    "\n",
    "print(\"\\n=== Genome Tags ===\")\n",
    "print(genome_tags_df.head())\n",
    "print(genome_tags_df.info())\n",
    "print(genome_tags_df.describe())\n",
    "\n",
    "print(\"\\n=== Link ===\")\n",
    "print(link_df.head())\n",
    "print(link_df.info())\n",
    "print(link_df.describe())\n",
    "\n",
    "print(\"\\n=== Movie ===\")\n",
    "print(movie_df.head())\n",
    "print(movie_df.info())\n",
    "print(movie_df.describe())\n",
    "\n",
    "print(\"\\n=== Rating ===\")\n",
    "print(rating_df.head())\n",
    "print(rating_df.info())\n",
    "print(rating_df.describe())\n",
    "\n",
    "print(\"\\n=== Tag ===\")\n",
    "print(tag_df.head())\n",
    "print(tag_df.info())\n",
    "print(tag_df.describe())\n",
    "\n",
    "# Data preprocessing can be performed based on the specific requirements of your recommendation system.\n",
    "# For example, handling missing values, feature engineering, encoding categorical variables, etc.\n"
   ]
  },
  {
   "cell_type": "code",
   "execution_count": null,
   "id": "9aace5dd-eb7d-402b-b2fa-df51348f13d6",
   "metadata": {},
   "outputs": [],
   "source": []
  },
  {
   "cell_type": "code",
   "execution_count": null,
   "id": "f789493e-6f49-4e10-bff1-edbd9794c837",
   "metadata": {},
   "outputs": [],
   "source": []
  }
 ],
 "metadata": {
  "kernelspec": {
   "display_name": "Python 3 (ipykernel)",
   "language": "python",
   "name": "python3"
  },
  "language_info": {
   "name": ""
  }
 },
 "nbformat": 4,
 "nbformat_minor": 5
}
